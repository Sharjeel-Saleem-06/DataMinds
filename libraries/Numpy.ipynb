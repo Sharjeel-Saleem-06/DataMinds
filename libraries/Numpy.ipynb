{
 "cells": [
  {
   "cell_type": "markdown",
   "metadata": {},
   "source": [
    "## NUMPY"
   ]
  },
  {
   "cell_type": "code",
   "execution_count": 4,
   "metadata": {},
   "outputs": [
    {
     "name": "stdout",
     "output_type": "stream",
     "text": [
      "2.0.1\n"
     ]
    }
   ],
   "source": [
    "import numpy as np # type: ignore\n",
    "print(np.__version__)"
   ]
  },
  {
   "cell_type": "code",
   "execution_count": 5,
   "metadata": {},
   "outputs": [
    {
     "name": "stdout",
     "output_type": "stream",
     "text": [
      "[1 2 3]\n",
      "(3,)\n",
      "3\n",
      "1\n",
      "8\n",
      "int64\n"
     ]
    }
   ],
   "source": [
    "a=np.array([1,2,3])\n",
    "print(a)\n",
    "print(a.shape)  \n",
    "print(a.size)\n",
    "print(a.ndim)\n",
    "print(a.itemsize)\n",
    "print(a.dtype)==="
   ]
  },
  {
   "cell_type": "code",
   "execution_count": 6,
   "metadata": {},
   "outputs": [
    {
     "name": "stdout",
     "output_type": "stream",
     "text": [
      "1\n",
      "[10  2  3]\n"
     ]
    }
   ],
   "source": [
    "print(a[0])\n",
    "a[0]=10   #To update the value of a specific index\n",
    "print(a)"
   ]
  },
  {
   "cell_type": "markdown",
   "metadata": {},
   "source": [
    "# Python Lists vs Array\n"
   ]
  },
  {
   "cell_type": "code",
   "execution_count": 29,
   "metadata": {},
   "outputs": [],
   "source": [
    "# Pyrhon Lists vs Array\n",
    "l=[1,2,3,4]\n",
    "l1=[5,6,7,8,9]\n",
    "a=np.array([1,2,3,4,5])\n",
    "a1=np.array([5,6,7,8,9])\n",
    "l.append(5)  #Here the item will be append\n",
    "# a.append(5)   #Here the item will not append because array didnt provide such operations"
   ]
  },
  {
   "cell_type": "code",
   "execution_count": null,
   "metadata": {},
   "outputs": [],
   "source": [
    "l=l+[5]\n",
    "a=a+np.array([2])\n",
    "print(a)"
   ]
  },
  {
   "cell_type": "code",
   "execution_count": null,
   "metadata": {},
   "outputs": [
    {
     "name": "stdout",
     "output_type": "stream",
     "text": [
      "[1, 2, 3, 4, 5, 5, 1, 2, 3, 4, 5, 5] [ 6  8 10 12]\n"
     ]
    }
   ],
   "source": [
    "l=l*2\n",
    "a=a*2\n",
    "print(l,a)"
   ]
  },
  {
   "cell_type": "markdown",
   "metadata": {},
   "source": [
    "# Dot Product of Python lists vs Array\n"
   ]
  },
  {
   "cell_type": "code",
   "execution_count": 30,
   "metadata": {},
   "outputs": [
    {
     "name": "stdout",
     "output_type": "stream",
     "text": [
      "115\n",
      "115\n",
      "115\n"
     ]
    }
   ],
   "source": [
    "# For Lists\n",
    "dot=0\n",
    "for i in range(len(l)):\n",
    "    dot += l[i] * l1[i]\n",
    "print(dot)    \n",
    "\n",
    "# For array\n",
    "dot=np.dot(a,a1)\n",
    "print(dot)\n",
    "\n",
    "# Another way \n",
    "dot=a*a1\n",
    "sum1=np.sum(dot) #or sum1=(a*a1).sum()  or sum1=a @ a1\n",
    "print(sum1)\n"
   ]
  },
  {
   "cell_type": "markdown",
   "metadata": {},
   "source": [
    "# Speed Test b/w Numpy lists vs Array"
   ]
  },
  {
   "cell_type": "code",
   "execution_count": 2,
   "metadata": {},
   "outputs": [
    {
     "name": "stdout",
     "output_type": "stream",
     "text": [
      "List calculations 0.17887580000000014\n",
      "np.dot 0.02586840000000734\n",
      "Average 6.914838180944681\n"
     ]
    }
   ],
   "source": [
    "import numpy as np\n",
    "from numpy import random\n",
    "from timeit import default_timer as timer\n",
    "\n",
    "a=np.random.randn(1000)\n",
    "b=np.random.randn(1000)\n",
    "A=list(a)\n",
    "B=list(b)\n",
    "T=1000\n",
    "\n",
    "def dot1():\n",
    "    dot=0\n",
    "    for i in range(len(A)):\n",
    "        dot +=A[i]+B[i]\n",
    "    return dot \n",
    "\n",
    "def dot2():\n",
    "    return np.dot(a,b)\n",
    "\n",
    "start=timer()\n",
    "for t in range(T):\n",
    "    dot1()\n",
    "end=timer()\n",
    "t1=end-start    \n",
    "\n",
    "start=timer()\n",
    "for t in range(T):\n",
    "    dot2()\n",
    "end=timer()\n",
    "t2=end-start       \n",
    "\n",
    "print(f\"List calculations\",t1)\n",
    "print(f\"np.dot\",t2)\n",
    "print(f\"Average\",t1/t2)   # Numpy Array is faster then python lists"
   ]
  },
  {
   "cell_type": "markdown",
   "metadata": {},
   "source": [
    "# 2D Array "
   ]
  },
  {
   "cell_type": "code",
   "execution_count": null,
   "metadata": {},
   "outputs": [],
   "source": [
    "a=np.array([[1,2,3],[2,3,4]])\n",
    "print(a.shape)\n",
    "print(a[1][1]) #or print(a[1,1])\n",
    "#slicing\n",
    "print(a[:,0])\n",
    "print(a[0,:])\n",
    "print(a.T)"
   ]
  },
  {
   "cell_type": "markdown",
   "metadata": {},
   "source": [
    "# Indexing/Slicing/Boolean Indexing"
   ]
  },
  {
   "cell_type": "code",
   "execution_count": null,
   "metadata": {},
   "outputs": [],
   "source": [
    "a=np.array([[1,2],[5,6]])\n",
    "print(a)\n",
    "\n",
    "b=a[0,1]\n",
    "b=a[0,1:3]\n",
    "b=a[:,0]\n",
    "b=a[:,1]\n",
    "b=a[-1,:]\n",
    "b=a[-1,:-1]\n",
    "print(b)\n",
    "\n",
    "\n",
    "c=np.array([[1,2],[3,4],[5,6]])\n",
    "bool_index= c > 2\n",
    "print(bool_index)\n",
    "print(a[a>2])\n",
    "\n",
    "e=np.where(a>2,a,-1)\n",
    "print(e)\n",
    "\n",
    "f=np.array([10,13,15,8,91])\n",
    "g=[1,2,3]\n",
    "print(f[g])\n",
    "\n",
    "even=np.argwhere(a%2==0).flatten()\n",
    "print(a[even])"
   ]
  },
  {
   "cell_type": "markdown",
   "metadata": {},
   "source": [
    "# Reshaping"
   ]
  },
  {
   "cell_type": "code",
   "execution_count": 52,
   "metadata": {},
   "outputs": [
    {
     "name": "stdout",
     "output_type": "stream",
     "text": [
      "[[1 2 3 4 5 6]]\n",
      "[[1 2 3]\n",
      " [4 5 6]]\n"
     ]
    }
   ],
   "source": [
    "import numpy as np\n",
    "a=np.arange(1,7)\n",
    "b=a.reshape(2,3)\n",
    "c=a[np.newaxis,:]\n",
    "print(c)\n",
    "print(b)"
   ]
  },
  {
   "cell_type": "markdown",
   "metadata": {},
   "source": [
    "# Concatenation"
   ]
  },
  {
   "cell_type": "code",
   "execution_count": 72,
   "metadata": {},
   "outputs": [
    {
     "name": "stdout",
     "output_type": "stream",
     "text": [
      "[[1 2]\n",
      " [3 4]\n",
      " [5 6]\n",
      " [7 8]]\n",
      "[[1 2 5 6]\n",
      " [3 4 7 8]]\n"
     ]
    }
   ],
   "source": [
    "import numpy as np\n",
    "a=np.array([[1,2],[3,4]])\n",
    "b=np.array([[5,6],[7,8]])\n",
    "c=np.concatenate((a,b.T),axis=1)\n",
    "d=np.hstack((a,b))\n",
    "f=np.vstack((a,b))\n",
    "print(f)\n",
    "print(d)"
   ]
  },
  {
   "cell_type": "markdown",
   "metadata": {},
   "source": [
    "# Broadcasting"
   ]
  },
  {
   "cell_type": "code",
   "execution_count": 79,
   "metadata": {},
   "outputs": [
    {
     "name": "stdout",
     "output_type": "stream",
     "text": [
      "[[2 2 4]\n",
      " [5 5 7]\n",
      " [2 2 4]\n",
      " [5 5 7]]\n"
     ]
    }
   ],
   "source": [
    "x=np.array([[1,2,3],[4,5,6],[1,2,3],[4,5,6]])\n",
    "y=np.array([[1,0,1],[1,0,1],[1,0,1],[1,0,1]]) \n",
    "z=x+y\n",
    "print(z)"
   ]
  },
  {
   "cell_type": "markdown",
   "metadata": {},
   "source": [
    "# Function and Axes"
   ]
  },
  {
   "cell_type": "code",
   "execution_count": 87,
   "metadata": {},
   "outputs": [
    {
     "name": "stdout",
     "output_type": "stream",
     "text": [
      "60\n",
      "[21 39]\n",
      "[3.5 6.5]\n",
      "[2.91666667 2.91666667]\n",
      "[1.70782513 1.70782513]\n"
     ]
    }
   ],
   "source": [
    "a=np.array([[1,2,3,4,5,6],[4,5,6,7,8,9]])\n",
    "print(a.sum())\n",
    "print(a.sum(axis=1)) #axis=0 means row and 1 = coloumn\n",
    "print(a.mean(axis=1))\n",
    "print(a.var(axis=1))\n",
    "print(np.std(a,axis=1))"
   ]
  },
  {
   "cell_type": "markdown",
   "metadata": {},
   "source": [
    "# Generating Arrays"
   ]
  },
  {
   "cell_type": "code",
   "execution_count": 97,
   "metadata": {},
   "outputs": [
    {
     "name": "stdout",
     "output_type": "stream",
     "text": [
      "[[0. 0.]\n",
      " [0. 0.]]\n",
      "[[1. 1. 1.]\n",
      " [1. 1. 1.]]\n",
      "[[5. 5. 5.]\n",
      " [5. 5. 5.]]\n",
      "[[1. 0. 0.]\n",
      " [0. 1. 0.]\n",
      " [0. 0. 1.]]\n",
      "[ 0  1  2  3  4  5  6  7  8  9 10 11 12 13 14 15 16 17 18 19]\n",
      "[ 1.    3.25  5.5   7.75 10.  ]\n"
     ]
    }
   ],
   "source": [
    "import numpy as  np\n",
    "a=np.zeros((2,2))\n",
    "print(a)\n",
    "\n",
    "b=np.ones((2,3))\n",
    "print(b)\n",
    "\n",
    "c=np.full((2,3),5.0)\n",
    "print(c)\n",
    "\n",
    "d=np.eye((3))\n",
    "print(d)\n",
    "\n",
    "f=np.arange(20)\n",
    "print(f)\n",
    "\n",
    "e=np.linspace(1,10,5)\n",
    "print(e)"
   ]
  }
 ],
 "metadata": {
  "kernelspec": {
   "display_name": "Python 3",
   "language": "python",
   "name": "python3"
  },
  "language_info": {
   "codemirror_mode": {
    "name": "ipython",
    "version": 3
   },
   "file_extension": ".py",
   "mimetype": "text/x-python",
   "name": "python",
   "nbconvert_exporter": "python",
   "pygments_lexer": "ipython3",
   "version": "3.12.4"
  }
 },
 "nbformat": 4,
 "nbformat_minor": 2
}
