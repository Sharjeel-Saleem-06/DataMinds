{
 "cells": [
  {
   "cell_type": "markdown",
   "metadata": {},
   "source": [
    "## NUMPY"
   ]
  },
  {
   "cell_type": "code",
   "execution_count": 16,
   "metadata": {},
   "outputs": [
    {
     "name": "stdout",
     "output_type": "stream",
     "text": [
      "2.0.1\n"
     ]
    }
   ],
   "source": [
    "import numpy as np # type: ignore\n",
    "print(np.__version__)"
   ]
  },
  {
   "cell_type": "code",
   "execution_count": 20,
   "metadata": {},
   "outputs": [
    {
     "name": "stdout",
     "output_type": "stream",
     "text": [
      "[1 2 3]\n",
      "(3,)\n",
      "3\n",
      "1\n",
      "8\n",
      "int64\n",
      "[1. 2. 3.]\n"
     ]
    }
   ],
   "source": [
    "a=np.array([1,2,3])\n",
    "print(a)\n",
    "print(a.shape)  \n",
    "print(a.size)\n",
    "print(a.ndim)\n",
    "print(a.itemsize)\n",
    "print(a.dtype)\n",
    "print(a.astype(float))"
   ]
  },
  {
   "cell_type": "code",
   "execution_count": 6,
   "metadata": {},
   "outputs": [
    {
     "name": "stdout",
     "output_type": "stream",
     "text": [
      "1\n",
      "[10  2  3]\n"
     ]
    }
   ],
   "source": [
    "print(a[0])\n",
    "a[0]=10   #To update the value of a specific index\n",
    "print(a) "
   ]
  },
  {
   "cell_type": "markdown",
   "metadata": {},
   "source": [
    "# Python Lists vs Array\n"
   ]
  },
  {
   "cell_type": "code",
   "execution_count": 25,
   "metadata": {},
   "outputs": [
    {
     "name": "stdout",
     "output_type": "stream",
     "text": [
      "[1, 2, 3, 4, 5]\n"
     ]
    }
   ],
   "source": [
    "# Pyrhon Lists vs Array\n",
    "l=[1,2,3,4]\n",
    "l1=[5,6,7,8,9]\n",
    "a=np.array([1,2,3,4,5])\n",
    "a1=np.array([5,6,7,8,9])\n",
    "l.append(5)  #Here the item will be append\n",
    "#   #Here the item will not append because array didnt provide such operations\n",
    "print(l)\n",
    "# print(a)"
   ]
  },
  {
   "cell_type": "code",
   "execution_count": 26,
   "metadata": {},
   "outputs": [
    {
     "name": "stdout",
     "output_type": "stream",
     "text": [
      "[3 4 5 6 7]\n",
      "[1, 2, 3, 4, 5, 6]\n"
     ]
    }
   ],
   "source": [
    "l=l+[6]  # in list the 5 is added at the end of a list\n",
    "a=a+np.array([2])  # but here in array the number 2 is added to every item in array\n",
    "print(a)\n",
    "print(l)"
   ]
  },
  {
   "cell_type": "code",
   "execution_count": 27,
   "metadata": {},
   "outputs": [
    {
     "name": "stdout",
     "output_type": "stream",
     "text": [
      "[1, 2, 3, 4, 5, 6, 1, 2, 3, 4, 5, 6] [ 6  8 10 12 14]\n"
     ]
    }
   ],
   "source": [
    "l=l*2  # in list every item doubles by making square\n",
    "a=a*2  # in array it will take square of each number\n",
    "print(l,a)"
   ]
  },
  {
   "cell_type": "markdown",
   "metadata": {},
   "source": [
    "# Dot Product of Python lists vs Array\n"
   ]
  },
  {
   "cell_type": "code",
   "execution_count": 30,
   "metadata": {},
   "outputs": [
    {
     "name": "stdout",
     "output_type": "stream",
     "text": [
      "115\n",
      "115\n",
      "115\n"
     ]
    }
   ],
   "source": [
    "# For Lists\n",
    "dot=0\n",
    "for i in range(len(l)):\n",
    "    dot += l[i] * l1[i]\n",
    "print(dot)    \n",
    "\n",
    "# For array\n",
    "dot=np.dot(a,a1)\n",
    "print(dot)\n",
    "\n",
    "# Another way \n",
    "dot=a*a1\n",
    "sum1=np.sum(dot) #or sum1=(a*a1).sum()  or sum1=a @ a1\n",
    "print(sum1)\n"
   ]
  },
  {
   "cell_type": "markdown",
   "metadata": {},
   "source": [
    "# Speed Test b/w Numpy lists vs Array"
   ]
  },
  {
   "cell_type": "code",
   "execution_count": 2,
   "metadata": {},
   "outputs": [
    {
     "name": "stdout",
     "output_type": "stream",
     "text": [
      "List calculations 0.14533579999988433\n",
      "np.dot 0.024553400002332637\n",
      "Average 5.919172089652637\n"
     ]
    }
   ],
   "source": [
    "import numpy as np\n",
    "from numpy import random\n",
    "from timeit import default_timer as timer\n",
    "\n",
    "a=np.random.randn(1000)\n",
    "b=np.random.randn(1000)\n",
    "A=list(a)\n",
    "B=list(b)\n",
    "T=1000\n",
    "\n",
    "def dot1():\n",
    "    dot=0\n",
    "    for i in range(len(A)):\n",
    "        dot +=A[i]*B[i]\n",
    "    return dot \n",
    "\n",
    "def dot2():\n",
    "    return np.dot(a,b)\n",
    "\n",
    "start=timer()\n",
    "for t in range(T):\n",
    "    dot1()\n",
    "end=timer()\n",
    "t1=end-start    \n",
    "\n",
    "start=timer()\n",
    "for t in range(T):\n",
    "    dot2()\n",
    "end=timer()\n",
    "t2=end-start       \n",
    "\n",
    "print(f\"List calculations\",t1)\n",
    "print(f\"np.dot\",t2)\n",
    "print(f\"Average\",t1/t2)   # Numpy Array is faster then python lists"
   ]
  },
  {
   "cell_type": "markdown",
   "metadata": {},
   "source": [
    "# 2D Array "
   ]
  },
  {
   "cell_type": "code",
   "execution_count": null,
   "metadata": {},
   "outputs": [],
   "source": [
    "a=np.array([[1,2,3],[2,3,4]])\n",
    "print(a.shape)\n",
    "print(a[1][1]) #or print(a[1,1])\n",
    "#slicing\n",
    "print(a[:,0])\n",
    "print(a[0,:])\n",
    "print(a.T)"
   ]
  },
  {
   "cell_type": "markdown",
   "metadata": {},
   "source": [
    "# Indexing/Slicing/Boolean Indexing"
   ]
  },
  {
   "cell_type": "code",
   "execution_count": null,
   "metadata": {},
   "outputs": [],
   "source": [
    "a=np.array([[1,2],[5,6]])\n",
    "print(a)\n",
    "\n",
    "b=a[0,1]\n",
    "b=a[0,1:3]\n",
    "b=a[:,0]\n",
    "b=a[:,1]\n",
    "b=a[-1,:]\n",
    "b=a[-1,:-1]\n",
    "print(b)\n",
    "\n",
    "\n",
    "c=np.array([[1,2],[3,4],[5,6]])\n",
    "bool_index= c > 2\n",
    "print(bool_index)\n",
    "print(a[a>2])\n",
    "\n",
    "e=np.where(a>2,a,-1)\n",
    "print(e)\n",
    "\n",
    "f=np.array([10,13,15,8,91])\n",
    "g=[1,2,3]\n",
    "print(f[g])\n",
    "\n",
    "even=np.argwhere(a%2==0).flatten()\n",
    "print(a[even])"
   ]
  },
  {
   "cell_type": "markdown",
   "metadata": {},
   "source": [
    "# Reshaping"
   ]
  },
  {
   "cell_type": "code",
   "execution_count": 52,
   "metadata": {},
   "outputs": [
    {
     "name": "stdout",
     "output_type": "stream",
     "text": [
      "[[1 2 3 4 5 6]]\n",
      "[[1 2 3]\n",
      " [4 5 6]]\n"
     ]
    }
   ],
   "source": [
    "import numpy as np\n",
    "a=np.arange(1,7)\n",
    "b=a.reshape(2,3)\n",
    "c=a[np.newaxis,:]\n",
    "print(c)\n",
    "print(b)"
   ]
  },
  {
   "cell_type": "markdown",
   "metadata": {},
   "source": [
    "# Concatenation"
   ]
  },
  {
   "cell_type": "code",
   "execution_count": 72,
   "metadata": {},
   "outputs": [
    {
     "name": "stdout",
     "output_type": "stream",
     "text": [
      "[[1 2]\n",
      " [3 4]\n",
      " [5 6]\n",
      " [7 8]]\n",
      "[[1 2 5 6]\n",
      " [3 4 7 8]]\n"
     ]
    }
   ],
   "source": [
    "import numpy as np\n",
    "a=np.array([[1,2],[3,4]])\n",
    "b=np.array([[5,6],[7,8]])\n",
    "c=np.concatenate((a,b.T),axis=1)\n",
    "d=np.hstack((a,b))\n",
    "f=np.vstack((a,b))\n",
    "print(f)\n",
    "print(d)"
   ]
  },
  {
   "cell_type": "markdown",
   "metadata": {},
   "source": [
    "# Broadcasting"
   ]
  },
  {
   "cell_type": "code",
   "execution_count": 79,
   "metadata": {},
   "outputs": [
    {
     "name": "stdout",
     "output_type": "stream",
     "text": [
      "[[2 2 4]\n",
      " [5 5 7]\n",
      " [2 2 4]\n",
      " [5 5 7]]\n"
     ]
    }
   ],
   "source": [
    "x=np.array([[1,2,3],[4,5,6],[1,2,3],[4,5,6]])\n",
    "y=np.array([[1,0,1],[1,0,1],[1,0,1],[1,0,1]]) \n",
    "z=x+y\n",
    "print(z)"
   ]
  },
  {
   "cell_type": "markdown",
   "metadata": {},
   "source": [
    "# Function and Axes"
   ]
  },
  {
   "cell_type": "code",
   "execution_count": 87,
   "metadata": {},
   "outputs": [
    {
     "name": "stdout",
     "output_type": "stream",
     "text": [
      "60\n",
      "[21 39]\n",
      "[3.5 6.5]\n",
      "[2.91666667 2.91666667]\n",
      "[1.70782513 1.70782513]\n"
     ]
    }
   ],
   "source": [
    "a=np.array([[1,2,3,4,5,6],[4,5,6,7,8,9]])\n",
    "print(a.sum())\n",
    "print(a.sum(axis=1)) #axis=0 means row and 1 = coloumn\n",
    "print(a.mean(axis=1))\n",
    "print(a.var(axis=1))\n",
    "print(np.std(a,axis=1))\n",
    "print(np.size(a))\n",
    "print(np.cumsum(a))\n",
    "print(np.cumprod(a))"
   ]
  },
  {
   "cell_type": "code",
   "execution_count": 14,
   "metadata": {},
   "outputs": [
    {
     "name": "stdout",
     "output_type": "stream",
     "text": [
      "[[  100   200   300   400   500]\n",
      " [ 1000  4000  9000 16000 25000]]\n"
     ]
    }
   ],
   "source": [
    "a=[100,200,300,400,500]\n",
    "b=[10,20,30,40,50]\n",
    "Price=np.array(a)\n",
    "Quantity=np.array(b)\n",
    "print(np.cumprod([Price,Quantity],axis=0))"
   ]
  },
  {
   "cell_type": "markdown",
   "metadata": {},
   "source": [
    "# Generating Arrays"
   ]
  },
  {
   "cell_type": "code",
   "execution_count": 97,
   "metadata": {},
   "outputs": [
    {
     "name": "stdout",
     "output_type": "stream",
     "text": [
      "[[0. 0.]\n",
      " [0. 0.]]\n",
      "[[1. 1. 1.]\n",
      " [1. 1. 1.]]\n",
      "[[5. 5. 5.]\n",
      " [5. 5. 5.]]\n",
      "[[1. 0. 0.]\n",
      " [0. 1. 0.]\n",
      " [0. 0. 1.]]\n",
      "[ 0  1  2  3  4  5  6  7  8  9 10 11 12 13 14 15 16 17 18 19]\n",
      "[ 1.    3.25  5.5   7.75 10.  ]\n"
     ]
    }
   ],
   "source": [
    "import numpy as  np\n",
    "a=np.zeros((2,2))\n",
    "print(a)\n",
    "\n",
    "b=np.ones((2,3))\n",
    "print(b)\n",
    "\n",
    "c=np.full((2,3),5.0)\n",
    "print(c)\n",
    "\n",
    "d=np.eye((3))\n",
    "print(d)\n",
    "\n",
    "f=np.arange(20)\n",
    "print(f)\n",
    "\n",
    "e=np.linspace(1,10,5)\n",
    "print(e)"
   ]
  },
  {
   "cell_type": "markdown",
   "metadata": {},
   "source": [
    "# Sort Search and Filter"
   ]
  },
  {
   "cell_type": "code",
   "execution_count": 7,
   "metadata": {},
   "outputs": [
    {
     "name": "stdout",
     "output_type": "stream",
     "text": [
      "[1 2 4 6]\n"
     ]
    }
   ],
   "source": [
    "import numpy as np\n",
    "ar=np.array([2,1,6,4])\n",
    "print(np.sort(ar))\n"
   ]
  },
  {
   "cell_type": "code",
   "execution_count": 9,
   "metadata": {},
   "outputs": [
    {
     "name": "stdout",
     "output_type": "stream",
     "text": [
      "(array([3]),)\n"
     ]
    }
   ],
   "source": [
    "ar=np.array([2,1,6,4])\n",
    "print(np.where(ar==4))\n",
    "print(np.where(ar%2==0))"
   ]
  },
  {
   "cell_type": "code",
   "execution_count": 10,
   "metadata": {},
   "outputs": [
    {
     "name": "stdout",
     "output_type": "stream",
     "text": [
      "2\n"
     ]
    }
   ],
   "source": [
    "ar=np.array([1,2,3,4])  #isma array sorted hona chye \n",
    "print(np.searchsorted(ar,2))"
   ]
  },
  {
   "cell_type": "code",
   "execution_count": 13,
   "metadata": {},
   "outputs": [
    {
     "name": "stdout",
     "output_type": "stream",
     "text": [
      "[200]\n",
      "[200   6   4]\n"
     ]
    }
   ],
   "source": [
    "ar=np.array([200,1,6,4])\n",
    "fa=ar>35\n",
    "new=ar[fa]\n",
    "print(new)\n",
    "\n",
    "ar=np.array([200,1,6,4])\n",
    "fa=ar % 2 ==0\n",
    "new=ar[fa]\n",
    "print(new)"
   ]
  },
  {
   "cell_type": "markdown",
   "metadata": {},
   "source": [
    "# Statiscal Function"
   ]
  },
  {
   "cell_type": "code",
   "execution_count": 16,
   "metadata": {},
   "outputs": [
    {
     "name": "stdout",
     "output_type": "stream",
     "text": [
      "202.25\n",
      "194.0\n",
      "200\n",
      "55.68157235567257\n",
      "3100.4375\n"
     ]
    }
   ],
   "source": [
    "import numpy as np\n",
    "import statistics as stats\n",
    "baked_food=[200,300,150,130,200,280,170,188]\n",
    "\n",
    "a=np.array(baked_food)\n",
    "print(np.mean(a))\n",
    "print(np.median(a))\n",
    "print(stats.mode(a))\n",
    "print(np.std(a)) #kafi acha method ha agr data ka spread hanana ha , ya underroot hota ha var ka\n",
    "print(np.var(a)) #square of std, agar iska var jannaa ho to underrrot std bnta "
   ]
  },
  {
   "cell_type": "code",
   "execution_count": 19,
   "metadata": {},
   "outputs": [
    {
     "name": "stdout",
     "output_type": "stream",
     "text": [
      "[[1.         0.93325653]\n",
      " [0.93325653 1.        ]]\n"
     ]
    }
   ],
   "source": [
    "tobaco=[10,35,40]\n",
    "deaths=[100,200,300]\n",
    "print(np.corrcoef([tobaco,deaths]))\n",
    "\n",
    "#-1 represents inversley propotional relationship\n",
    "#1 respresnts propotional relationship\n",
    "#0 means no relationship"
   ]
  }
 ],
 "metadata": {
  "kernelspec": {
   "display_name": "Python 3",
   "language": "python",
   "name": "python3"
  },
  "language_info": {
   "codemirror_mode": {
    "name": "ipython",
    "version": 3
   },
   "file_extension": ".py",
   "mimetype": "text/x-python",
   "name": "python",
   "nbconvert_exporter": "python",
   "pygments_lexer": "ipython3",
   "version": "3.12.4"
  }
 },
 "nbformat": 4,
 "nbformat_minor": 2
}
