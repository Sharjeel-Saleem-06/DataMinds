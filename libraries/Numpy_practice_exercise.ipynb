{
 "cells": [
  {
   "cell_type": "code",
   "execution_count": null,
   "metadata": {},
   "outputs": [],
   "source": [
    "# Convert 1D array to 2D array with 2 rows\n",
    "\n",
    "import numpy as np \n",
    "array_1d = np.array([1, 2, 3, 4, 5, 6])\n",
    "array_2d = array_1d.reshape(2, -1)\n",
    "print(array_2d)"
   ]
  },
  {
   "cell_type": "code",
   "execution_count": null,
   "metadata": {},
   "outputs": [],
   "source": [
    "#Multiply a 5x3 matrix by a 3x2 matrix\n",
    "\n",
    "matrix_1 = np.random.rand(5, 3)\n",
    "matrix_2 = np.random.rand(3, 2)\n",
    "result = np.dot(matrix_1, matrix_2)\n",
    "print(result)"
   ]
  },
  {
   "cell_type": "code",
   "execution_count": null,
   "metadata": {},
   "outputs": [],
   "source": [
    "#Extract all odd number from array 1-20\n",
    "\n",
    "array = np.arange(1, 21)\n",
    "odd_numbers = array[array % 2 != 0]\n",
    "print(odd_numbers)"
   ]
  },
  {
   "cell_type": "code",
   "execution_count": null,
   "metadata": {},
   "outputs": [],
   "source": [
    "#Replace all odd number from array 1-10 with -1\n",
    "\n",
    "array = np.arange(1, 11)\n",
    "array[array % 2 != 0] = -1\n",
    "print(array)"
   ]
  },
  {
   "cell_type": "code",
   "execution_count": null,
   "metadata": {},
   "outputs": [],
   "source": [
    "#Convert a 1D array to a boolean array where all positive values become True\n",
    "\n",
    "array = np.array([0, 1, -2, 3, -4, 5])\n",
    "boolean_array = array > 0\n",
    "print(boolean_array)"
   ]
  },
  {
   "cell_type": "code",
   "execution_count": null,
   "metadata": {},
   "outputs": [],
   "source": [
    "#Replace all even numbers in a 1D array with their negative\n",
    "\n",
    "array = np.array([1, 2, 3, 4, 5, 6, 7, 8, 9, 10])\n",
    "array[array % 2 == 0] = -array[array % 2 == 0]\n",
    "print(array)"
   ]
  }
 ],
 "metadata": {
  "kernelspec": {
   "display_name": "Python 3",
   "language": "python",
   "name": "python3"
  },
  "language_info": {
   "codemirror_mode": {
    "name": "ipython",
    "version": 3
   },
   "file_extension": ".py",
   "mimetype": "text/x-python",
   "name": "python",
   "nbconvert_exporter": "python",
   "pygments_lexer": "ipython3",
   "version": "3.12.4"
  }
 },
 "nbformat": 4,
 "nbformat_minor": 2
}
