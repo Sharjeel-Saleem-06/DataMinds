{
 "cells": [
  {
   "cell_type": "markdown",
   "metadata": {},
   "source": [
    "# Day 1"
   ]
  },
  {
   "cell_type": "code",
   "execution_count": 8,
   "metadata": {},
   "outputs": [
    {
     "name": "stdout",
     "output_type": "stream",
     "text": [
      "[[1 2 3]\n",
      " [4 5 6]]\n"
     ]
    }
   ],
   "source": [
    "# Convert 1D array to 2D array with 2 rows\n",
    "\n",
    "import numpy as np \n",
    "array_1d = np.array([1, 2, 3, 4, 5, 6])\n",
    "array_2d = array_1d.reshape(2,-1)\n",
    "print(array_2d)"
   ]
  },
  {
   "cell_type": "code",
   "execution_count": 10,
   "metadata": {},
   "outputs": [
    {
     "name": "stdout",
     "output_type": "stream",
     "text": [
      "[[0.76896304 1.56138915]\n",
      " [0.26836624 0.96807957]\n",
      " [0.58113332 1.31737895]\n",
      " [0.83931614 1.79963197]\n",
      " [0.30997965 0.81906244]]\n"
     ]
    }
   ],
   "source": [
    "#Multiply a 5x3 matrix by a 3x2 matrix\n",
    "\n",
    "matrix_1 = np.random.rand(5, 3)\n",
    "matrix_2 = np.random.rand(3, 2)\n",
    "result = np.dot(matrix_1, matrix_2)\n",
    "print(result)"
   ]
  },
  {
   "cell_type": "code",
   "execution_count": null,
   "metadata": {},
   "outputs": [],
   "source": [
    "#Extract all odd number from array 1-20\n",
    "\n",
    "array = np.arange(1, 21)\n",
    "odd_numbers = array[array % 2 != 0]\n",
    "print(odd_numbers)"
   ]
  },
  {
   "cell_type": "code",
   "execution_count": null,
   "metadata": {},
   "outputs": [],
   "source": [
    "#Replace all odd number from array 1-10 with -1\n",
    "\n",
    "array = np.arange(1, 11)\n",
    "array[array % 2 != 0] = -1\n",
    "print(array)"
   ]
  },
  {
   "cell_type": "code",
   "execution_count": null,
   "metadata": {},
   "outputs": [],
   "source": [
    "#Convert a 1D array to a boolean array where all positive values become True\n",
    "\n",
    "array = np.array([0, 1, -2, 3, -4, 5])\n",
    "boolean_array = array > 0\n",
    "print(boolean_array)"
   ]
  },
  {
   "cell_type": "code",
   "execution_count": null,
   "metadata": {},
   "outputs": [],
   "source": [
    "#Replace all even numbers in a 1D array with their negative\n",
    "\n",
    "array = np.array([1, 2, 3, 4, 5, 6, 7, 8, 9, 10])\n",
    "array[array % 2 == 0] = -array[array % 2 == 0]\n",
    "print(array)"
   ]
  },
  {
   "cell_type": "markdown",
   "metadata": {},
   "source": [
    "# Day 2"
   ]
  },
  {
   "cell_type": "code",
   "execution_count": null,
   "metadata": {},
   "outputs": [],
   "source": [
    "#Calculate the sum of the diagonal elements of a 3x3 matrix.\n",
    "n = np.arange(9).reshape(3,3)\n",
    "print(n)\n",
    "print(np.trace(n))\n"
   ]
  },
  {
   "cell_type": "code",
   "execution_count": null,
   "metadata": {},
   "outputs": [],
   "source": [
    "#Find the indices of non-zero elements from [1,2,0,0,4,0].\n",
    "n = np.array([1,2,0,0,4,0])\n",
    "print(np.nonzero(n))\n"
   ]
  },
  {
   "cell_type": "code",
   "execution_count": null,
   "metadata": {},
   "outputs": [],
   "source": [
    "#Reverse a 1D array (first element becomes the last).\n",
    "n = np.arange(1,11)\n",
    "print(np.flip(n))\n",
    "#np.flip() function used to reverse the element in array\n",
    "print(n[::-1]) # this is anpther way to do it\n"
   ]
  },
  {
   "cell_type": "code",
   "execution_count": null,
   "metadata": {},
   "outputs": [],
   "source": [
    "#Create a 3x3 identity matrix.\n",
    "n = np.eye(3,3)\n",
    "print(n)\n"
   ]
  },
  {
   "cell_type": "code",
   "execution_count": null,
   "metadata": {},
   "outputs": [],
   "source": [
    "#Reshape a 1D array to a 2D array with 5 rows and 2 columns.\n",
    "n = np.arange(10)\n",
    "n = n.reshape(5,2)\n",
    "print(n)\n"
   ]
  },
  {
   "cell_type": "code",
   "execution_count": null,
   "metadata": {},
   "outputs": [],
   "source": [
    "#Get the common items between two arrays.\n",
    "n = np.arange(10)\n",
    "n2 = np.arange(5,9)\n",
    "print(np.intersect1d(n,n2))\n"
   ]
  },
  {
   "cell_type": "code",
   "execution_count": null,
   "metadata": {},
   "outputs": [],
   "source": [
    "#Create a 5x5 matrix with row values ranging from 0 to 4.\n",
    "n = np.zeros((5,5))\n",
    "n = n+ np.arange(5)\n",
    "print(n)\n"
   ]
  }
 ],
 "metadata": {
  "kernelspec": {
   "display_name": "Python 3",
   "language": "python",
   "name": "python3"
  },
  "language_info": {
   "codemirror_mode": {
    "name": "ipython",
    "version": 3
   },
   "file_extension": ".py",
   "mimetype": "text/x-python",
   "name": "python",
   "nbconvert_exporter": "python",
   "pygments_lexer": "ipython3",
   "version": "3.12.4"
  }
 },
 "nbformat": 4,
 "nbformat_minor": 2
}
